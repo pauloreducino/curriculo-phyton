{
  "nbformat": 4,
  "nbformat_minor": 0,
  "metadata": {
    "colab": {
      "provenance": [],
      "authorship_tag": "ABX9TyMILt6mb3HrZRy/0D37CMha",
      "include_colab_link": true
    },
    "kernelspec": {
      "name": "python3",
      "display_name": "Python 3"
    },
    "language_info": {
      "name": "python"
    }
  },
  "cells": [
    {
      "cell_type": "markdown",
      "metadata": {
        "id": "view-in-github",
        "colab_type": "text"
      },
      "source": [
        "<a href=\"https://colab.research.google.com/github/pauloreducino/curriculo-phyton/blob/main/Untitled3.ipynb\" target=\"_parent\"><img src=\"https://colab.research.google.com/assets/colab-badge.svg\" alt=\"Open In Colab\"/></a>"
      ]
    },
    {
      "cell_type": "code",
      "execution_count": 14,
      "metadata": {
        "colab": {
          "base_uri": "https://localhost:8080/",
          "height": 69
        },
        "id": "2Vdufld29jJE",
        "outputId": "7026dbef-7eb8-46b2-d368-d5d423a7490e"
      },
      "outputs": [
        {
          "output_type": "stream",
          "name": "stdout",
          "text": [
            "Requirement already satisfied: reportlab in /usr/local/lib/python3.12/dist-packages (4.4.4)\n",
            "Requirement already satisfied: pillow>=9.0.0 in /usr/local/lib/python3.12/dist-packages (from reportlab) (11.3.0)\n",
            "Requirement already satisfied: charset-normalizer in /usr/local/lib/python3.12/dist-packages (from reportlab) (3.4.3)\n"
          ]
        },
        {
          "output_type": "display_data",
          "data": {
            "text/plain": [
              "<IPython.core.display.Javascript object>"
            ],
            "application/javascript": [
              "\n",
              "    async function download(id, filename, size) {\n",
              "      if (!google.colab.kernel.accessAllowed) {\n",
              "        return;\n",
              "      }\n",
              "      const div = document.createElement('div');\n",
              "      const label = document.createElement('label');\n",
              "      label.textContent = `Downloading \"${filename}\": `;\n",
              "      div.appendChild(label);\n",
              "      const progress = document.createElement('progress');\n",
              "      progress.max = size;\n",
              "      div.appendChild(progress);\n",
              "      document.body.appendChild(div);\n",
              "\n",
              "      const buffers = [];\n",
              "      let downloaded = 0;\n",
              "\n",
              "      const channel = await google.colab.kernel.comms.open(id);\n",
              "      // Send a message to notify the kernel that we're ready.\n",
              "      channel.send({})\n",
              "\n",
              "      for await (const message of channel.messages) {\n",
              "        // Send a message to notify the kernel that we're ready.\n",
              "        channel.send({})\n",
              "        if (message.buffers) {\n",
              "          for (const buffer of message.buffers) {\n",
              "            buffers.push(buffer);\n",
              "            downloaded += buffer.byteLength;\n",
              "            progress.value = downloaded;\n",
              "          }\n",
              "        }\n",
              "      }\n",
              "      const blob = new Blob(buffers, {type: 'application/binary'});\n",
              "      const a = document.createElement('a');\n",
              "      a.href = window.URL.createObjectURL(blob);\n",
              "      a.download = filename;\n",
              "      div.appendChild(a);\n",
              "      a.click();\n",
              "      div.remove();\n",
              "    }\n",
              "  "
            ]
          },
          "metadata": {}
        },
        {
          "output_type": "display_data",
          "data": {
            "text/plain": [
              "<IPython.core.display.Javascript object>"
            ],
            "application/javascript": [
              "download(\"download_b84647ba-45f7-48f3-a1af-435f81c3fd93\", \"Curriculo_Paulo_Reducino.pdf\", 4160)"
            ]
          },
          "metadata": {}
        }
      ],
      "source": [
        "!pip install reportlab\n",
        "\n",
        "from reportlab.lib.pagesizes import A4\n",
        "from reportlab.platypus import SimpleDocTemplate, Paragraph, Spacer, Table, TableStyle\n",
        "from reportlab.lib.styles import getSampleStyleSheet, ParagraphStyle\n",
        "from reportlab.lib import colors\n",
        "from google.colab import files\n",
        "\n",
        "# Nome do arquivo PDF final\n",
        "file_path = \"Curriculo_Paulo_Reducino.pdf\"\n",
        "\n",
        "# Configuração do documento\n",
        "doc = SimpleDocTemplate(file_path, pagesize=A4, rightMargin=35, leftMargin=35, topMargin=30, bottomMargin=30)\n",
        "\n",
        "# Estilos\n",
        "styles = getSampleStyleSheet()\n",
        "styles.add(ParagraphStyle(name=\"TitleBig\", fontSize=18, leading=20, spaceAfter=6, alignment=1, fontName=\"Helvetica-Bold\"))\n",
        "styles.add(ParagraphStyle(name=\"SubTitle\", fontSize=11, leading=14, spaceAfter=10, alignment=1, textColor=colors.HexColor(\"#444\")))\n",
        "styles.add(ParagraphStyle(name=\"Heading\", fontSize=12, leading=14, spaceBefore=6, spaceAfter=4, fontName=\"Helvetica-Bold\", textColor=colors.HexColor(\"#1B1F24\")))\n",
        "styles.add(ParagraphStyle(name=\"Body\", fontSize=10, leading=13, spaceAfter=4))\n",
        "\n",
        "story = []\n",
        "\n",
        "# Cabeçalho\n",
        "story.append(Paragraph(\"Paulo Alexandre Reducino\", styles[\"TitleBig\"]))\n",
        "story.append(Paragraph(\"Desenvolvedor Frontend\", styles[\"SubTitle\"]))\n",
        "story.append(Spacer(1, 12))\n",
        "\n",
        "# Contato (com WhatsApp linkado)\n",
        "contact_data = [[\n",
        "    Paragraph(\"📧 paulo.a.reducino@gmail.com\", styles[\"Body\"]),\n",
        "    Paragraph(\"📱 <a href='https://whatsa.me/5598970265510' color='blue'><u>(98) 97026-5510</u></a>\", styles[\"Body\"]),\n",
        "    Paragraph(\"🔗 <a href='https://www.linkedin.com/in/pauloreducino/' color='blue'><u>LinkedIn</u></a>\", styles[\"Body\"])\n",
        "]]\n",
        "contact_table = Table(contact_data, colWidths=[180, 150, 130])\n",
        "contact_table.setStyle(TableStyle([(\"ALIGN\", (0, 0), (-1, -1), \"CENTER\")]))\n",
        "story.append(contact_table)\n",
        "story.append(Spacer(1, 12))\n",
        "\n",
        "# Habilidades Técnicas\n",
        "story.append(Paragraph(\"Habilidades Técnicas\", styles[\"Heading\"]))\n",
        "story.append(Paragraph(\n",
        "    \"React.js, Next.js, JavaScript, TypeScript, Tailwind CSS, HTML, CSS, Vitest, Jest, Git, Vite, \"\n",
        "    \"Hostgator (deploy e hospedagem), AWS (integrações e serviços em nuvem)\", styles[\"Body\"]\n",
        "))\n",
        "story.append(Spacer(1, 10))\n",
        "\n",
        "# Experiência Profissional\n",
        "story.append(Paragraph(\"Experiência Profissional\", styles[\"Heading\"]))\n",
        "story.append(Spacer(1, 10))\n",
        "\n",
        "# SurtoCriativo (Atual - Freelance)\n",
        "story.append(Paragraph(\"<b>Desenvolvedor Frontend (Freelancer) — SurtoCriativo</b> (Ago/2025 – Atual)\", styles[\"Body\"]))\n",
        "story.append(Paragraph(\n",
        "    \"Atuação como Desenvolvedor Frontend em regime freelance, entregando soluções digitais modernas, \"\n",
        "    \"performáticas e acessíveis para diferentes segmentos.\", styles[\"Body\"]\n",
        "))\n",
        "story.append(Paragraph(\"<b>Principais atividades:</b>\", styles[\"Body\"]))\n",
        "story.append(Paragraph(\"• Desenvolvimento de aplicações SPA com React.js, Vite e TypeScript.\", styles[\"Body\"]))\n",
        "story.append(Paragraph(\"• Criação de interfaces responsivas com Tailwind CSS.\", styles[\"Body\"]))\n",
        "story.append(Paragraph(\"• Integração com APIs REST/WordPress e otimização de cache com TanStack Query.\", styles[\"Body\"]))\n",
        "story.append(Paragraph(\"• Implementação de formulários validados (React Hook Form + Zod).\", styles[\"Body\"]))\n",
        "story.append(Paragraph(\"• Monitoramento de SEO, performance e acessibilidade utilizando Google Lighthouse, PageSpeed Insights e ferramentas de acessibilidade (Wave, axe DevTools).\", styles[\"Body\"]))\n",
        "story.append(Spacer(1, 12))\n",
        "\n",
        "# Phooto\n",
        "story.append(Paragraph(\"<b>Desenvolvedor Frontend Pleno — Phooto</b> (Dez/2022 – Jul/2025)\", styles[\"Body\"]))\n",
        "story.append(Paragraph(\n",
        "    \"Atuação no desenvolvimento e otimização de interfaces web responsivas e acessíveis, com foco em alta performance, \"\n",
        "    \"escalabilidade e experiência do usuário (UX/UI). Liderança técnica em projetos de e-commerce e plataformas digitais, \"\n",
        "    \"aplicando as melhores práticas de SEO, usabilidade e conversão.\", styles[\"Body\"]\n",
        "))\n",
        "story.append(Paragraph(\n",
        "    \"Experiência em React.js, Next.js, TypeScript, JavaScript, Tailwind CSS, HTML/CSS e integração com APIs e serviços \"\n",
        "    \"em nuvem (AWS), garantindo soluções modernas, seguras e de fácil manutenção.\", styles[\"Body\"]\n",
        "))\n",
        "story.append(Paragraph(\"<b>Principais contribuições:</b>\", styles[\"Body\"]))\n",
        "story.append(Paragraph(\"• Liderança no desenvolvimento de landing pages de alta conversão.\", styles[\"Body\"]))\n",
        "story.append(Paragraph(\"• Colaboração com product designers e product managers em grandes operações como Black Friday.\", styles[\"Body\"]))\n",
        "story.append(Paragraph(\"• Implementação de melhorias contínuas em design, acessibilidade e performance com base em testes A/B.\", styles[\"Body\"]))\n",
        "story.append(Paragraph(\"• Monitoramento de tendências de frontend e boas práticas de mercado.\", styles[\"Body\"]))\n",
        "story.append(Spacer(1, 12))\n",
        "\n",
        "# SurtoCriativo (Júnior)\n",
        "story.append(Paragraph(\"<b>Desenvolvedor Frontend — SurtoCriativo</b> (Mar/2020 – Nov/2022)\", styles[\"Body\"]))\n",
        "story.append(Paragraph(\n",
        "    \"Atuação como desenvolvedor focado na criação de sites institucionais, landing pages e portfólios para diferentes segmentos \"\n",
        "    \"(marketing, saúde, advocacia e pequenas empresas).\", styles[\"Body\"]\n",
        "))\n",
        "story.append(Paragraph(\"• Desenvolvimento de interfaces modernas, responsivas e otimizadas para performance e SEO.\", styles[\"Body\"]))\n",
        "story.append(Paragraph(\"• Utilização de Next.js, React, TypeScript e Tailwind CSS.\", styles[\"Body\"]))\n",
        "story.append(Paragraph(\"• Responsável por projetos do layout (Figma) até o deploy final.\", styles[\"Body\"]))\n",
        "story.append(Spacer(1, 12))\n",
        "\n",
        "# Diferenciais\n",
        "story.append(Paragraph(\"Diferenciais\", styles[\"Heading\"]))\n",
        "story.append(Paragraph(\"• Experiência em metodologias ágeis e boas práticas de versionamento.\", styles[\"Body\"]))\n",
        "story.append(Paragraph(\"• Forte atenção à performance, acessibilidade e experiência do usuário.\", styles[\"Body\"]))\n",
        "\n",
        "# Gerar PDF\n",
        "doc.build(story)\n",
        "\n",
        "# Download automático\n",
        "files.download(file_path)\n"
      ]
    }
  ]
}