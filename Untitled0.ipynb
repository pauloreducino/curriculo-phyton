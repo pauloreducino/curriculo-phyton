{
  "nbformat": 4,
  "nbformat_minor": 0,
  "metadata": {
    "colab": {
      "provenance": [],
      "authorship_tag": "ABX9TyNf7fcmJe02wk8amdkqwTc6",
      "include_colab_link": true
    },
    "kernelspec": {
      "name": "python3",
      "display_name": "Python 3"
    },
    "language_info": {
      "name": "python"
    }
  },
  "cells": [
    {
      "cell_type": "markdown",
      "metadata": {
        "id": "view-in-github",
        "colab_type": "text"
      },
      "source": [
        "<a href=\"https://colab.research.google.com/github/pauloreducino/curriculo-phyton/blob/main/Untitled0.ipynb\" target=\"_parent\"><img src=\"https://colab.research.google.com/assets/colab-badge.svg\" alt=\"Open In Colab\"/></a>"
      ]
    },
    {
      "cell_type": "code",
      "execution_count": null,
      "metadata": {
        "id": "s2XP53Z-ZDV0"
      },
      "outputs": [],
      "source": []
    },
    {
      "cell_type": "code",
      "source": [
        "# Instalar o reportlab (se ainda não estiver instalado no Colab)\n",
        "!pip install reportlab\n",
        "\n",
        "from reportlab.platypus import SimpleDocTemplate, Paragraph, Spacer\n",
        "from reportlab.lib.pagesizes import A4\n",
        "from reportlab.lib.styles import getSampleStyleSheet, ParagraphStyle\n",
        "from google.colab import files\n",
        "\n",
        "# Nome do arquivo de saída\n",
        "output_path = \"Curriculo_Paulo_Reducino_Final.pdf\"\n",
        "\n",
        "# Configurações do documento\n",
        "doc = SimpleDocTemplate(\n",
        "    output_path,\n",
        "    pagesize=A4,\n",
        "    topMargin=30,\n",
        "    bottomMargin=30,\n",
        "    leftMargin=40,\n",
        "    rightMargin=40\n",
        ")\n",
        "styles = getSampleStyleSheet()\n",
        "\n",
        "# Estilos\n",
        "title_style = ParagraphStyle('Title', parent=styles['Heading1'], fontSize=16, spaceAfter=14, alignment=1)\n",
        "subtitle_style = ParagraphStyle('Subtitle', parent=styles['Heading2'], fontSize=12, spaceAfter=10, spaceBefore=10)\n",
        "body_style = ParagraphStyle('Body', parent=styles['Normal'], fontSize=10.5, leading=15, spaceAfter=6)\n",
        "bullet_style = ParagraphStyle('Bullet', parent=styles['Normal'], fontSize=10.5, leading=14, leftIndent=15, spaceAfter=4)\n",
        "\n",
        "content = []\n",
        "\n",
        "# Cabeçalho\n",
        "content.append(Paragraph(\"Paulo Alexandre Reducino\", title_style))\n",
        "content.append(Paragraph(\"Desenvolvedor Frontend Pleno\", subtitle_style))\n",
        "\n",
        "# Contato (LinkedIn clicável e sublinhado, com espaçamento maior)\n",
        "contact_line = \"\"\"paulo.a.reducino@gmail.com &nbsp;&nbsp;&nbsp;|&nbsp;&nbsp;&nbsp; <link href=\"https://whatsa.me/5598970265510\"><u>(98) 97026-5510</u></link> &nbsp;&nbsp;&nbsp;|&nbsp;&nbsp;&nbsp; <link href=\"https://www.linkedin.com/in/pauloreducino/\"><u>LinkedIn</u></link>\"\"\"\n",
        "\n",
        "content.append(Paragraph(contact_line, body_style))\n",
        "content.append(Spacer(1, 14))\n",
        "\n",
        "# Habilidades Técnicas\n",
        "content.append(Paragraph(\"Habilidades Técnicas\", subtitle_style))\n",
        "content.append(Paragraph(\n",
        "    \"React.js, Next.js, JavaScript, TypeScript, Tailwind CSS, Node.js, Vitest, Jest, Git, Vite, \"\n",
        "    \"Hostgator (deploy e hospedagem), AWS (integrações e serviços em nuvem)\", body_style))\n",
        "\n",
        "content.append(Spacer(1, 10))\n",
        "\n",
        "# Experiência Profissional\n",
        "content.append(Paragraph(\"Experiência Profissional\", subtitle_style))\n",
        "\n",
        "# Experiência 1\n",
        "content.append(Paragraph(\"Desenvolvedor Frontend Pleno — Phooto (Dez/2022 – Atual)\", body_style))\n",
        "content.append(Paragraph(\n",
        "    \"Atuação no desenvolvimento e otimização de interfaces web responsivas e acessíveis, com foco em alta performance, \"\n",
        "    \"escalabilidade e experiência do usuário (UX/UI). Liderança técnica em projetos de e-commerce e plataformas digitais, \"\n",
        "    \"aplicando as melhores práticas de SEO, usabilidade e conversão.\", body_style))\n",
        "content.append(Paragraph(\n",
        "    \"Experiência em React.js, Next.js, TypeScript, JavaScript, Tailwind CSS, HTML/CSS e integração com APIs \"\n",
        "    \"e serviços em nuvem (AWS), garantindo soluções modernas, seguras e de fácil manutenção.\", body_style))\n",
        "\n",
        "content.append(Paragraph(\"Principais contribuições:\", body_style))\n",
        "contribuicoes1 = [\n",
        "    \"Liderança no desenvolvimento de landing pages de alta conversão, alinhadas a campanhas publicitárias e estratégias de marketing digital.\",\n",
        "    \"Colaboração com product designers e product managers em grandes operações como Black Friday, otimizando experiência do usuário e ampliando métricas de conversão.\",\n",
        "    \"Implementação de melhorias contínuas em design, acessibilidade e performance, com base em testes A/B, análise de métricas e comportamento do usuário.\",\n",
        "    \"Monitoramento de tendências de frontend e boas práticas de mercado, garantindo entregas consistentes, modernas e orientadas a resultados.\"\n",
        "]\n",
        "for item in contribuicoes1:\n",
        "    content.append(Paragraph(f\"• {item}\", bullet_style))\n",
        "\n",
        "content.append(Spacer(1, 10))\n",
        "\n",
        "# Experiência 2\n",
        "content.append(Paragraph(\"Desenvolvedor Frontend Júnior — SurtoCriativo (Mar/2020 – Nov/2022)\", body_style))\n",
        "contribuicoes2 = [\n",
        "    \"Atuação como desenvolvedor freelance focado na criação de sites institucionais, landing pages e portfólios para diferentes segmentos (marketing, saúde, advocacia e pequenas empresas).\",\n",
        "    \"Desenvolvimento de interfaces modernas, responsivas e otimizadas para performance e SEO, usando Next.js, React, TypeScript e Tailwind CSS.\",\n",
        "    \"Responsável por projetos do layout (Figma) até o deploy final, garantindo fidelidade visual, usabilidade e acessibilidade.\"\n",
        "]\n",
        "for item in contribuicoes2:\n",
        "    content.append(Paragraph(f\"• {item}\", bullet_style))\n",
        "\n",
        "content.append(Spacer(1, 10))\n",
        "\n",
        "# Diferenciais\n",
        "content.append(Paragraph(\"Diferenciais\", subtitle_style))\n",
        "diferenciais = [\n",
        "    \"Experiência em metodologias ágeis e boas práticas de versionamento.\",\n",
        "    \"Forte atenção à performance, acessibilidade e experiência do usuário.\"\n",
        "]\n",
        "for item in diferenciais:\n",
        "    content.append(Paragraph(f\"• {item}\", bullet_style))\n",
        "\n",
        "# Gerar PDF\n",
        "doc.build(content)\n",
        "\n",
        "# Baixar automaticamente no Colab\n",
        "files.download(output_path)\n",
        "\n"
      ],
      "metadata": {
        "colab": {
          "base_uri": "https://localhost:8080/",
          "height": 69
        },
        "id": "plzsmQeSZFj4",
        "outputId": "b922d01e-8e7e-4146-8a64-26bf8588ed88"
      },
      "execution_count": null,
      "outputs": [
        {
          "output_type": "stream",
          "name": "stdout",
          "text": [
            "Requirement already satisfied: reportlab in /usr/local/lib/python3.12/dist-packages (4.4.4)\n",
            "Requirement already satisfied: pillow>=9.0.0 in /usr/local/lib/python3.12/dist-packages (from reportlab) (11.3.0)\n",
            "Requirement already satisfied: charset-normalizer in /usr/local/lib/python3.12/dist-packages (from reportlab) (3.4.3)\n"
          ]
        },
        {
          "output_type": "display_data",
          "data": {
            "text/plain": [
              "<IPython.core.display.Javascript object>"
            ],
            "application/javascript": [
              "\n",
              "    async function download(id, filename, size) {\n",
              "      if (!google.colab.kernel.accessAllowed) {\n",
              "        return;\n",
              "      }\n",
              "      const div = document.createElement('div');\n",
              "      const label = document.createElement('label');\n",
              "      label.textContent = `Downloading \"${filename}\": `;\n",
              "      div.appendChild(label);\n",
              "      const progress = document.createElement('progress');\n",
              "      progress.max = size;\n",
              "      div.appendChild(progress);\n",
              "      document.body.appendChild(div);\n",
              "\n",
              "      const buffers = [];\n",
              "      let downloaded = 0;\n",
              "\n",
              "      const channel = await google.colab.kernel.comms.open(id);\n",
              "      // Send a message to notify the kernel that we're ready.\n",
              "      channel.send({})\n",
              "\n",
              "      for await (const message of channel.messages) {\n",
              "        // Send a message to notify the kernel that we're ready.\n",
              "        channel.send({})\n",
              "        if (message.buffers) {\n",
              "          for (const buffer of message.buffers) {\n",
              "            buffers.push(buffer);\n",
              "            downloaded += buffer.byteLength;\n",
              "            progress.value = downloaded;\n",
              "          }\n",
              "        }\n",
              "      }\n",
              "      const blob = new Blob(buffers, {type: 'application/binary'});\n",
              "      const a = document.createElement('a');\n",
              "      a.href = window.URL.createObjectURL(blob);\n",
              "      a.download = filename;\n",
              "      div.appendChild(a);\n",
              "      a.click();\n",
              "      div.remove();\n",
              "    }\n",
              "  "
            ]
          },
          "metadata": {}
        },
        {
          "output_type": "display_data",
          "data": {
            "text/plain": [
              "<IPython.core.display.Javascript object>"
            ],
            "application/javascript": [
              "download(\"download_58c53d3a-c484-4ada-bb75-9de55dea6c1f\", \"Curriculo_Paulo_Reducino_Final.pdf\", 3771)"
            ]
          },
          "metadata": {}
        }
      ]
    }
  ]
}